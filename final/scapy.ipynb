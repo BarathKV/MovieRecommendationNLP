{
 "cells": [
  {
   "cell_type": "code",
   "id": "initial_id",
   "metadata": {
    "collapsed": true
   },
   "source": [
    "import pandas as pd\n",
    "import numpy as np\n",
    "\n",
    "data = pd.read_csv('../scapy_vec_clean.csv').drop('Unnamed: 0', axis=1)\n",
    "data.head(10)"
   ],
   "outputs": [],
   "execution_count": null
  },
  {
   "metadata": {},
   "cell_type": "code",
   "source": [
    "import pandas as pd\n",
    "import numpy as np\n",
    "from scipy.sparse import hstack\n",
    "\n",
    "# Load the data\n",
    "data = pd.read_csv('../scapy_vec_clean.csv').drop('Unnamed: 0', axis=1)\n",
    "\n",
    "# Convert the columns to 2-D arrays\n",
    "genres_spacy_matrix = np.vstack(data['genre_vector'].values)\n",
    "\n",
    "# keywords_spacy_matrix = np.vstack(data['keyword_vector'].values)\n",
    "# overview_spacy_matrix = np.vstack(data['overview_vector'].values)\n",
    "#\n",
    "# # Combine the matrices\n",
    "# combined_matrix = hstack([genres_spacy_matrix, keywords_spacy_matrix, overview_spacy_matrix])"
   ],
   "id": "65b0bd5fbd57286e",
   "outputs": [],
   "execution_count": null
  },
  {
   "metadata": {},
   "cell_type": "code",
   "source": "",
   "id": "a0418085231ec803",
   "outputs": [],
   "execution_count": null
  }
 ],
 "metadata": {
  "kernelspec": {
   "display_name": "Python 3",
   "language": "python",
   "name": "python3"
  },
  "language_info": {
   "codemirror_mode": {
    "name": "ipython",
    "version": 2
   },
   "file_extension": ".py",
   "mimetype": "text/x-python",
   "name": "python",
   "nbconvert_exporter": "python",
   "pygments_lexer": "ipython2",
   "version": "2.7.6"
  }
 },
 "nbformat": 4,
 "nbformat_minor": 5
}
