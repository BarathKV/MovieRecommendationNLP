{
 "cells": [
  {
   "metadata": {
    "ExecuteTime": {
     "end_time": "2025-03-18T06:14:35.016811Z",
     "start_time": "2025-03-18T06:14:22.114260Z"
    }
   },
   "cell_type": "code",
   "source": [
    "import pickle as pkl\n",
    "from sklearn.neighbors import NearestNeighbors\n",
    "import pandas as pd\n",
    "\n",
    "df = pd.read_csv('../Dataset/combined.csv').fillna('')\n",
    "\n",
    "def load_matrix(file_path):\n",
    "    with open(file_path, 'rb') as f:\n",
    "        return pkl.load(f)\n",
    "\n",
    "def get_input():\n",
    "    title = input(\"Enter the title of the movie: \")\n",
    "    path = input(\"Enter the path of the matrix: \")\n",
    "    k = int(input(\"Enter the number of neighbors: \"))\n",
    "    reduced_matrix = load_matrix(path)\n",
    "    recommendations = recommend_movies(title, df, reduced_matrix,k=k)\n",
    "    print(f\"Recommended movies for '{title}':\")\n",
    "    for i, movie in enumerate(recommendations):\n",
    "        print(f\"{i+1}. {movie}\")\n",
    "\n",
    "# Function to recommend movies based on the closest vector values\n",
    "def recommend_movies(title, movies_df, reduced_matrix, k=21):\n",
    "\n",
    "    # Find the index of the movie in the dataset\n",
    "    movie_index = movies_df[movies_df['title'] == title].index[0]\n",
    "\n",
    "    # Fit the NearestNeighbors model on the reduced matrix\n",
    "    nn_model = NearestNeighbors(n_neighbors=k, metric='cosine')  # k=11 (1 query + 10 recommendations)\n",
    "    nn_model.fit(reduced_matrix)\n",
    "\n",
    "    # Get the k-nearest neighbors (1 query + 10 recommendations)\n",
    "    distances, indices = nn_model.kneighbors(reduced_matrix[movie_index].reshape(1,-1), n_neighbors=k)\n",
    "\n",
    "    # Exclude the first result (the queried movie itself)\n",
    "    recommended_indices = indices.flatten()[1:]\n",
    "\n",
    "    # Return the titles of the recommended movies\n",
    "    return movies_df.iloc[recommended_indices]['title'].tolist()"
   ],
   "id": "87b80cf2ef35bce1",
   "outputs": [],
   "execution_count": 1
  },
  {
   "metadata": {
    "ExecuteTime": {
     "end_time": "2025-03-18T06:30:30.568751Z",
     "start_time": "2025-03-18T06:30:30.360118Z"
    }
   },
   "cell_type": "code",
   "source": [
    "PATH = r'/Matrices\\hashing\\reduced_hv_mtx.pkl'\n",
    "TITLE = 'Toy Story'\n",
    "K = 31\n",
    "\n",
    "reduced_matrix = load_matrix(PATH)\n",
    "recommendations = recommend_movies(TITLE, df, reduced_matrix,k=K)\n",
    "print(f\"Recommended movies for '{TITLE}':\")\n",
    "for i, movie in enumerate(recommendations):\n",
    "    print(f\"{i+1}. {movie}\")"
   ],
   "id": "bee945bd2710961d",
   "outputs": [
    {
     "name": "stdout",
     "output_type": "stream",
     "text": [
      "Recommended movies for 'Toy Story':\n",
      "1. Broom-Stick Bunny\n",
      "2. The Emoji Movie\n",
      "3. Toy Story 2\n",
      "4. Scooby-Doo! and the Samurai Sword\n",
      "5. Rabbit Fire\n",
      "6. The Bugs Bunny/Road Runner Movie\n",
      "7. Rabbit Seasoning\n",
      "8. Bugs Bunny's 3rd Movie: 1001 Rabbit Tales\n",
      "9. Doug's 1st Movie\n",
      "10. Dug's Special Mission\n",
      "11. Devil May Hare\n",
      "12. Stitch! The Movie\n",
      "13. Cloudy with a Chance of Meatballs\n",
      "14. The Great Mouse Detective\n",
      "15. Scooby-Doo! And the Legend of the Vampire\n",
      "16. Hotel Transylvania 2\n",
      "17. A Boy Named Charlie Brown\n",
      "18. Feed the Kitty\n",
      "19. A Close Shave\n",
      "20. Chicken Run\n",
      "21. Rover Dangerfield\n",
      "22. Scooby-Doo! and the Loch Ness Monster\n",
      "23. Ali Baba Bunny\n",
      "24. Garfield\n",
      "25. Bartok the Magnificent\n",
      "26. Hop\n",
      "27. Garfield's Fun Fest\n",
      "28. Creature Comforts\n",
      "29. Hammy's Boomerang Adventure\n",
      "30. The Wrong Trousers\n"
     ]
    }
   ],
   "execution_count": 2
  },
  {
   "metadata": {
    "ExecuteTime": {
     "end_time": "2025-03-18T06:31:02.342586Z",
     "start_time": "2025-03-18T06:31:02.139374Z"
    }
   },
   "cell_type": "code",
   "source": [
    "PATH = r'/Matrices\\tfidf\\reduced_tfidf_mtx.pkl'\n",
    "TITLE = 'Toy Story'\n",
    "K = 31\n",
    "\n",
    "reduced_matrix = load_matrix(PATH)\n",
    "recommendations = recommend_movies(TITLE, df, reduced_matrix,k=K)\n",
    "print(f\"Recommended movies for '{TITLE}':\")\n",
    "for i, movie in enumerate(recommendations):\n",
    "    print(f\"{i+1}. {movie}\")"
   ],
   "id": "30c2a94b7228d794",
   "outputs": [
    {
     "name": "stdout",
     "output_type": "stream",
     "text": [
      "Recommended movies for 'Toy Story':\n",
      "1. Minions: Orientation Day\n",
      "2. Rabbit Seasoning\n",
      "3. Toy Story 2\n",
      "4. The Prince and the Pauper\n",
      "5. Banana\n",
      "6. Devil May Hare\n",
      "7. Ali Baba Bunny\n",
      "8. Rabbit Fire\n",
      "9. Broom-Stick Bunny\n",
      "10. Hammy's Boomerang Adventure\n",
      "11. The Bugs Bunny/Road Runner Movie\n",
      "12. A Boy Named Charlie Brown\n",
      "13. The Emoji Movie\n",
      "14. The Great Piggy Bank Robbery\n",
      "15. Meet the Deedles\n",
      "16. Garfield\n",
      "17. Garfield's Fun Fest\n",
      "18. Stitch! The Movie\n",
      "19. Tom and Jerry: Shiver Me Whiskers\n",
      "20. Hoodwinked!\n",
      "21. Scary Godmother: Halloween Spooktakular\n",
      "22. Cloudy with a Chance of Meatballs\n",
      "23. Bartok the Magnificent\n",
      "24. Heathcliff: The Movie\n",
      "25. Scooby-Doo! and the Loch Ness Monster\n",
      "26. Big Top Scooby-Doo!\n",
      "27. Scooby-Doo! and the Samurai Sword\n",
      "28. The SpongeBob SquarePants Movie\n",
      "29. Bugs Bunny's 3rd Movie: 1001 Rabbit Tales\n",
      "30. Bon Voyage, Charlie Brown (and Don't Come Back!)\n"
     ]
    }
   ],
   "execution_count": 3
  },
  {
   "metadata": {},
   "cell_type": "code",
   "outputs": [],
   "execution_count": null,
   "source": "",
   "id": "ad0788c153d295fc"
  }
 ],
 "metadata": {
  "kernelspec": {
   "display_name": "Python 3",
   "language": "python",
   "name": "python3"
  },
  "language_info": {
   "codemirror_mode": {
    "name": "ipython",
    "version": 2
   },
   "file_extension": ".py",
   "mimetype": "text/x-python",
   "name": "python",
   "nbconvert_exporter": "python",
   "pygments_lexer": "ipython2",
   "version": "2.7.6"
  }
 },
 "nbformat": 4,
 "nbformat_minor": 5
}
