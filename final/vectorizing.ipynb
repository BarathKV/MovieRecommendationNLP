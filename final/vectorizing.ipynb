{
 "cells": [
  {
   "metadata": {},
   "cell_type": "markdown",
   "source": "## Data Preprocessing",
   "id": "52c1a4d62f780b38"
  },
  {
   "metadata": {
    "ExecuteTime": {
     "end_time": "2025-03-17T15:27:10.911820Z",
     "start_time": "2025-03-17T15:27:08.807539Z"
    }
   },
   "cell_type": "code",
   "source": [
    "import pandas as pd\n",
    "\n",
    "df = pd.read_csv('../Dataset/combined.csv')\n",
    "df.shape"
   ],
   "id": "796fa5a6faeb2deb",
   "outputs": [
    {
     "data": {
      "text/plain": [
       "(45483, 5)"
      ]
     },
     "execution_count": 2,
     "metadata": {},
     "output_type": "execute_result"
    }
   ],
   "execution_count": 2
  },
  {
   "metadata": {
    "ExecuteTime": {
     "end_time": "2025-03-17T15:27:13.208912Z",
     "start_time": "2025-03-17T15:27:13.162481Z"
    }
   },
   "cell_type": "code",
   "source": "df.isna().sum()",
   "id": "7261bf8273620651",
   "outputs": [
    {
     "data": {
      "text/plain": [
       "id              0\n",
       "keywords    14041\n",
       "title           0\n",
       "genres       2256\n",
       "overview        0\n",
       "dtype: int64"
      ]
     },
     "execution_count": 3,
     "metadata": {},
     "output_type": "execute_result"
    }
   ],
   "execution_count": 3
  },
  {
   "metadata": {
    "ExecuteTime": {
     "end_time": "2025-03-17T15:28:26.329554Z",
     "start_time": "2025-03-17T15:28:26.240412Z"
    }
   },
   "cell_type": "code",
   "source": [
    "df.fillna('', inplace=True)\n",
    "df.isna().sum()"
   ],
   "id": "ae9384e436322b71",
   "outputs": [
    {
     "data": {
      "text/plain": [
       "id          0\n",
       "keywords    0\n",
       "title       0\n",
       "genres      0\n",
       "overview    0\n",
       "dtype: int64"
      ]
     },
     "execution_count": 4,
     "metadata": {},
     "output_type": "execute_result"
    }
   ],
   "execution_count": 4
  },
  {
   "metadata": {
    "ExecuteTime": {
     "end_time": "2025-03-17T15:28:33.456960Z",
     "start_time": "2025-03-17T15:28:33.175332Z"
    }
   },
   "cell_type": "code",
   "source": [
    "import pandas as pd\n",
    "\n",
    "# Check for common issues like HTML tags, punctuation, or missing values\n",
    "print(\"Contains HTML tags:\", df['overview'].str.contains('<[^>]+>').any())\n",
    "print(\"Contains special characters:\", df['overview'].str.contains(r'[^\\w\\s]').any())\n",
    "print(\"Missing values:\", df['overview'].isnull().sum())"
   ],
   "id": "902be8956c05af39",
   "outputs": [
    {
     "name": "stdout",
     "output_type": "stream",
     "text": [
      "Contains HTML tags: False\n",
      "Contains special characters: True\n",
      "Missing values: 0\n"
     ]
    }
   ],
   "execution_count": 5
  },
  {
   "metadata": {
    "ExecuteTime": {
     "end_time": "2025-03-17T15:28:41.859087Z",
     "start_time": "2025-03-17T15:28:40.297433Z"
    }
   },
   "cell_type": "code",
   "source": [
    "import re\n",
    "\n",
    "df['overview'] = df['overview'].apply(\n",
    "    lambda x: re.sub(r'[^\\w\\s]', '', x) if isinstance(x, str) else ''\n",
    ")\n",
    "print(\"Contains HTML tags:\", df['overview'].str.contains('<[^>]+>').any())\n",
    "print(\"Contains special characters:\", df['overview'].str.contains(r'[^\\w\\s]').any())\n",
    "print(\"Missing values:\", df['overview'].isnull().sum())"
   ],
   "id": "eae36753c1d19a44",
   "outputs": [
    {
     "name": "stdout",
     "output_type": "stream",
     "text": [
      "Contains HTML tags: False\n",
      "Contains special characters: False\n",
      "Missing values: 0\n"
     ]
    }
   ],
   "execution_count": 6
  },
  {
   "metadata": {
    "ExecuteTime": {
     "end_time": "2025-03-17T15:29:20.474987Z",
     "start_time": "2025-03-17T15:29:20.286905Z"
    }
   },
   "cell_type": "code",
   "source": [
    "import re\n",
    "\n",
    "df['genres'] = df['genres'].apply(\n",
    "    lambda x: re.sub(r'[^\\w\\s]', '', x) if isinstance(x, str) else ''\n",
    ")\n",
    "print(\"Contains HTML tags:\", df['genres'].str.contains('<[^>]+>').any())\n",
    "print(\"Contains special characters:\", df['genres'].str.contains(r'[^\\w\\s]').any())\n",
    "print(\"Missing values:\", df['genres'].isnull().sum())"
   ],
   "id": "15893ac2b7c471a8",
   "outputs": [
    {
     "name": "stdout",
     "output_type": "stream",
     "text": [
      "Contains HTML tags: False\n",
      "Contains special characters: False\n",
      "Missing values: 0\n"
     ]
    }
   ],
   "execution_count": 8
  },
  {
   "metadata": {
    "ExecuteTime": {
     "end_time": "2025-03-17T15:29:22.499999Z",
     "start_time": "2025-03-17T15:29:22.197899Z"
    }
   },
   "cell_type": "code",
   "source": [
    "import re\n",
    "\n",
    "df['keywords'] = df['keywords'].apply(\n",
    "    lambda x: re.sub(r'[^\\w\\s]', '', x) if isinstance(x, str) else ''\n",
    ")\n",
    "print(\"Contains HTML tags:\", df['keywords'].str.contains('<[^>]+>').any())\n",
    "print(\"Contains special characters:\", df['keywords'].str.contains(r'[^\\w\\s]').any())\n",
    "print(\"Missing values:\", df['keywords'].isnull().sum())"
   ],
   "id": "31feb9c502f35dd3",
   "outputs": [
    {
     "name": "stdout",
     "output_type": "stream",
     "text": [
      "Contains HTML tags: False\n",
      "Contains special characters: False\n",
      "Missing values: 0\n"
     ]
    }
   ],
   "execution_count": 9
  },
  {
   "metadata": {},
   "cell_type": "markdown",
   "source": "## TF - IDF Vectorization",
   "id": "8cd92cc1779a7238"
  },
  {
   "metadata": {
    "ExecuteTime": {
     "end_time": "2025-03-17T15:29:37.118309Z",
     "start_time": "2025-03-17T15:29:27.019612Z"
    }
   },
   "cell_type": "code",
   "source": [
    "from sklearn.feature_extraction.text import TfidfVectorizer\n",
    "\n",
    "vectorizer = TfidfVectorizer(stop_words='english')\n",
    "genres_tfidf_matrix = vectorizer.fit_transform(df['genres'])\n",
    "keywords_tfidf_matrix = vectorizer.fit_transform(df['keywords'])\n",
    "overview_tfidf_matrix = vectorizer.fit_transform(df['overview'])"
   ],
   "id": "4b297d644de518c6",
   "outputs": [],
   "execution_count": 10
  },
  {
   "metadata": {
    "ExecuteTime": {
     "end_time": "2025-03-17T15:29:40.827033Z",
     "start_time": "2025-03-17T15:29:40.813594Z"
    }
   },
   "cell_type": "code",
   "source": [
    "import pickle as pkl\n",
    "with open('../Models/tfidf/genres_tfidf_mtx.pkl', 'wb') as f:\n",
    "    pkl.dump(genres_tfidf_matrix, f)\n",
    "genres_tfidf_matrix.shape"
   ],
   "id": "3c30b64b9d21610f",
   "outputs": [
    {
     "data": {
      "text/plain": [
       "(45483, 22)"
      ]
     },
     "execution_count": 11,
     "metadata": {},
     "output_type": "execute_result"
    }
   ],
   "execution_count": 11
  },
  {
   "metadata": {
    "ExecuteTime": {
     "end_time": "2025-03-17T15:29:41.994970Z",
     "start_time": "2025-03-17T15:29:41.979260Z"
    }
   },
   "cell_type": "code",
   "source": [
    "with open('../Models/tfidf/keywords_tfidf_mtx.pkl', 'wb') as f:\n",
    "    pkl.dump(keywords_tfidf_matrix, f)\n",
    "keywords_tfidf_matrix.shape"
   ],
   "id": "1ae5d09c4eee672e",
   "outputs": [
    {
     "data": {
      "text/plain": [
       "(45483, 12704)"
      ]
     },
     "execution_count": 12,
     "metadata": {},
     "output_type": "execute_result"
    }
   ],
   "execution_count": 12
  },
  {
   "metadata": {
    "ExecuteTime": {
     "end_time": "2025-03-17T15:29:43.320770Z",
     "start_time": "2025-03-17T15:29:43.291936Z"
    }
   },
   "cell_type": "code",
   "source": [
    "with open('../Models/tfidf/overview_tfidf_mtx.pkl', 'wb') as f:\n",
    "    pkl.dump(overview_tfidf_matrix, f)\n",
    "overview_tfidf_matrix.shape"
   ],
   "id": "4eaa951323d41a5a",
   "outputs": [
    {
     "data": {
      "text/plain": [
       "(45483, 91346)"
      ]
     },
     "execution_count": 13,
     "metadata": {},
     "output_type": "execute_result"
    }
   ],
   "execution_count": 13
  },
  {
   "metadata": {
    "ExecuteTime": {
     "end_time": "2025-03-17T15:29:44.108406Z",
     "start_time": "2025-03-17T15:29:44.049583Z"
    }
   },
   "cell_type": "code",
   "source": [
    "from scipy.sparse import hstack\n",
    "\n",
    "# Concatenate sparse matrices\n",
    "combined_matrix = hstack((genres_tfidf_matrix, keywords_tfidf_matrix, overview_tfidf_matrix))"
   ],
   "id": "2a55454155f21bd6",
   "outputs": [],
   "execution_count": 14
  },
  {
   "metadata": {
    "ExecuteTime": {
     "end_time": "2025-03-17T15:29:45.801202Z",
     "start_time": "2025-03-17T15:29:45.770960Z"
    }
   },
   "cell_type": "code",
   "source": [
    "with open('../Models/tfidf/combined_tfidf_mtx.pkl', 'wb') as f:\n",
    "    pkl.dump(combined_matrix, f)\n",
    "combined_matrix.shape"
   ],
   "id": "8d90812b2f3318dc",
   "outputs": [
    {
     "data": {
      "text/plain": [
       "(45483, 104072)"
      ]
     },
     "execution_count": 15,
     "metadata": {},
     "output_type": "execute_result"
    }
   ],
   "execution_count": 15
  },
  {
   "metadata": {
    "ExecuteTime": {
     "end_time": "2025-03-17T15:29:47.714024Z",
     "start_time": "2025-03-17T15:29:47.659621Z"
    }
   },
   "cell_type": "code",
   "source": [
    "from sklearn.preprocessing import normalize\n",
    "\n",
    "# Normalize the combined sparse matrix\n",
    "normalized_matrix = normalize(combined_matrix)"
   ],
   "id": "4eed51e1fbd62033",
   "outputs": [],
   "execution_count": 16
  },
  {
   "metadata": {},
   "cell_type": "code",
   "outputs": [],
   "execution_count": null,
   "source": [
    "with open('../Models/tfidf/normalized_tfidf_mtx.pkl', 'wb') as f:\n",
    "    pkl.dump(normalized_matrix, f)\n",
    "normalized_matrix.shape"
   ],
   "id": "a551ea89ebc71976"
  },
  {
   "metadata": {
    "ExecuteTime": {
     "end_time": "2025-03-17T15:30:07.315355Z",
     "start_time": "2025-03-17T15:29:50.776615Z"
    }
   },
   "cell_type": "code",
   "outputs": [],
   "execution_count": 18,
   "source": [
    "from sklearn.decomposition import TruncatedSVD\n",
    "\n",
    "# Reduce dimensions using Truncated SVD\n",
    "svd = TruncatedSVD(n_components=100, random_state=42)\n",
    "reduced_matrix = svd.fit_transform(normalized_matrix)"
   ],
   "id": "27b7c9bc7a5ee315"
  },
  {
   "metadata": {},
   "cell_type": "code",
   "outputs": [],
   "execution_count": null,
   "source": [
    "with open('../Models/tfidf/reduced_tfidf_mtx.pkl', 'wb') as f:\n",
    "    pkl.dump(reduced_matrix, f)\n",
    "reduced_matrix.shape"
   ],
   "id": "711050f592d587a0"
  },
  {
   "metadata": {
    "ExecuteTime": {
     "end_time": "2025-03-17T15:34:21.865695Z",
     "start_time": "2025-03-17T15:34:21.721364Z"
    }
   },
   "cell_type": "code",
   "source": [
    "from sklearn.neighbors import NearestNeighbors\n",
    "\n",
    "# Fit the NearestNeighbors model on the reduced matrix\n",
    "nn_model = NearestNeighbors(n_neighbors=21, metric='cosine')  # k=11 (1 query + 10 recommendations)\n",
    "nn_model.fit(reduced_matrix)\n",
    "\n",
    "with open('../Models/tfidf/tfidf_knn.pkl', 'wb') as f:\n",
    "    pkl.dump(nn_model, f)"
   ],
   "id": "18e8d46f4e7240bc",
   "outputs": [],
   "execution_count": 24
  },
  {
   "metadata": {},
   "cell_type": "markdown",
   "source": "## Hashing Vectorization",
   "id": "5ad601071482ef21"
  },
  {
   "metadata": {
    "ExecuteTime": {
     "end_time": "2025-03-17T15:43:50.689806Z",
     "start_time": "2025-03-17T15:43:44.538551Z"
    }
   },
   "cell_type": "code",
   "source": [
    "from sklearn.feature_extraction.text import HashingVectorizer\n",
    "\n",
    "hash_vec = HashingVectorizer(n_features=1000, stop_words='english')  # n_features controls dimensionality\n",
    "genres_hv_matrix = hash_vec.fit_transform(df['genres'])\n",
    "keywords_hv_matrix = hash_vec.fit_transform(df['keywords'])\n",
    "overview_hv_matrix = hash_vec.fit_transform(df['overview'])"
   ],
   "id": "32553d2897962fad",
   "outputs": [],
   "execution_count": 29
  },
  {
   "metadata": {
    "ExecuteTime": {
     "end_time": "2025-03-17T15:43:50.760285Z",
     "start_time": "2025-03-17T15:43:50.732149Z"
    }
   },
   "cell_type": "code",
   "source": [
    "with open('../Models/hashing/genres_hv_mtx.pkl', 'wb') as f:\n",
    "    pkl.dump(genres_hv_matrix, f)\n",
    "genres_hv_matrix.shape"
   ],
   "id": "f407ff277e3bed35",
   "outputs": [
    {
     "data": {
      "text/plain": [
       "(45483, 1000)"
      ]
     },
     "execution_count": 30,
     "metadata": {},
     "output_type": "execute_result"
    }
   ],
   "execution_count": 30
  },
  {
   "metadata": {
    "ExecuteTime": {
     "end_time": "2025-03-17T15:43:50.805810Z",
     "start_time": "2025-03-17T15:43:50.784366Z"
    }
   },
   "cell_type": "code",
   "source": [
    "with open('../Models/hashing/keywords_hv_mtx.pkl', 'wb') as f:\n",
    "    pkl.dump(keywords_hv_matrix, f)\n",
    "keywords_hv_matrix.shape"
   ],
   "id": "5310a7c38298ea2b",
   "outputs": [
    {
     "data": {
      "text/plain": [
       "(45483, 1000)"
      ]
     },
     "execution_count": 31,
     "metadata": {},
     "output_type": "execute_result"
    }
   ],
   "execution_count": 31
  },
  {
   "metadata": {
    "ExecuteTime": {
     "end_time": "2025-03-17T15:43:50.898180Z",
     "start_time": "2025-03-17T15:43:50.870132Z"
    }
   },
   "cell_type": "code",
   "source": [
    "with open('../Models/hashing/overview_hv_mtx.pkl', 'wb') as f:\n",
    "    pkl.dump(overview_hv_matrix, f)\n",
    "overview_hv_matrix.shape"
   ],
   "id": "21d16684198931f6",
   "outputs": [
    {
     "data": {
      "text/plain": [
       "(45483, 1000)"
      ]
     },
     "execution_count": 32,
     "metadata": {},
     "output_type": "execute_result"
    }
   ],
   "execution_count": 32
  },
  {
   "metadata": {
    "ExecuteTime": {
     "end_time": "2025-03-17T15:44:25.201408Z",
     "start_time": "2025-03-17T15:44:25.144162Z"
    }
   },
   "cell_type": "code",
   "source": [
    "from scipy.sparse import hstack\n",
    "\n",
    "# Concatenate sparse matrices\n",
    "combined_matrix = hstack((genres_hv_matrix, keywords_hv_matrix, overview_hv_matrix))"
   ],
   "id": "a59e4e5de872a31",
   "outputs": [],
   "execution_count": 33
  },
  {
   "metadata": {
    "ExecuteTime": {
     "end_time": "2025-03-17T15:45:56.258254Z",
     "start_time": "2025-03-17T15:45:56.211397Z"
    }
   },
   "cell_type": "code",
   "source": [
    "with open('../Models/hashing/combined_hv_mtx.pkl', 'wb') as f:\n",
    "    pkl.dump(combined_matrix, f)\n",
    "combined_matrix.shape"
   ],
   "id": "bef4afa0a8510112",
   "outputs": [
    {
     "data": {
      "text/plain": [
       "(45483, 3000)"
      ]
     },
     "execution_count": 34,
     "metadata": {},
     "output_type": "execute_result"
    }
   ],
   "execution_count": 34
  },
  {
   "metadata": {
    "ExecuteTime": {
     "end_time": "2025-03-17T15:45:58.197274Z",
     "start_time": "2025-03-17T15:45:58.171207Z"
    }
   },
   "cell_type": "code",
   "source": [
    "from sklearn.preprocessing import normalize\n",
    "\n",
    "# Normalize the combined sparse matrix\n",
    "normalized_matrix = normalize(combined_matrix)"
   ],
   "id": "1bc0b7688b8ee71f",
   "outputs": [],
   "execution_count": 35
  },
  {
   "metadata": {
    "ExecuteTime": {
     "end_time": "2025-03-17T15:45:59.690961Z",
     "start_time": "2025-03-17T15:45:59.635050Z"
    }
   },
   "cell_type": "code",
   "source": [
    "with open('../Models/hashing/normalized_hv_mtx.pkl', 'wb') as f:\n",
    "    pkl.dump(normalized_matrix, f)\n",
    "normalized_matrix.shape"
   ],
   "id": "bd43a18f36e59fa4",
   "outputs": [
    {
     "data": {
      "text/plain": [
       "(45483, 3000)"
      ]
     },
     "execution_count": 36,
     "metadata": {},
     "output_type": "execute_result"
    }
   ],
   "execution_count": 36
  },
  {
   "metadata": {
    "ExecuteTime": {
     "end_time": "2025-03-17T15:46:10.177610Z",
     "start_time": "2025-03-17T15:46:04.505356Z"
    }
   },
   "cell_type": "code",
   "source": [
    "from sklearn.decomposition import TruncatedSVD\n",
    "\n",
    "# Reduce dimensions using Truncated SVD\n",
    "svd = TruncatedSVD(n_components=100, random_state=42)\n",
    "reduced_matrix = svd.fit_transform(normalized_matrix)"
   ],
   "id": "72cb68016c61c38a",
   "outputs": [],
   "execution_count": 37
  },
  {
   "metadata": {
    "ExecuteTime": {
     "end_time": "2025-03-17T15:46:11.010402Z",
     "start_time": "2025-03-17T15:46:10.897901Z"
    }
   },
   "cell_type": "code",
   "source": [
    "with open('../Models/hashing/reduced_hv_mtx.pkl', 'wb') as f:\n",
    "    pkl.dump(reduced_matrix, f)\n",
    "reduced_matrix.shape"
   ],
   "id": "413d3f71c765d1ff",
   "outputs": [
    {
     "data": {
      "text/plain": [
       "(45483, 100)"
      ]
     },
     "execution_count": 38,
     "metadata": {},
     "output_type": "execute_result"
    }
   ],
   "execution_count": 38
  }
 ],
 "metadata": {
  "kernelspec": {
   "display_name": "Python 3",
   "language": "python",
   "name": "python3"
  },
  "language_info": {
   "codemirror_mode": {
    "name": "ipython",
    "version": 2
   },
   "file_extension": ".py",
   "mimetype": "text/x-python",
   "name": "python",
   "nbconvert_exporter": "python",
   "pygments_lexer": "ipython2",
   "version": "2.7.6"
  }
 },
 "nbformat": 4,
 "nbformat_minor": 5
}
